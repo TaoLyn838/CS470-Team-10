{
 "cells": [
  {
   "cell_type": "code",
   "execution_count": null,
   "id": "27410ccc-86e2-4e9e-be46-6ee4569f6214",
   "metadata": {},
   "outputs": [
    {
     "ename": "",
     "evalue": "",
     "output_type": "error",
     "traceback": [
      "\u001b[1;31mFailed to start the Kernel. \n",
      "\u001b[1;31mKernel is dead. \n",
      "\u001b[1;31mView Jupyter <a href='command:jupyter.viewOutput'>log</a> for further details."
     ]
    }
   ],
   "source": [
    "import pandas as pd\n",
    "import os\n",
    "import numpy as np\n",
    "from scipy.io import arff\n",
    "\n",
    "# def read_and_combine_arff_files(folder_path):\n",
    "#     all_data = []\n",
    "#     for file_name in sorted(os.listdir(folder_path)):\n",
    "#         if file_name.endswith('.arff'):\n",
    "#             file_path = os.path.join(folder_path, file_name)\n",
    "#             data, meta = arff.loadarff(file_path)\n",
    "#             df = pd.DataFrame(data)\n",
    "#             all_data.append(df)\n",
    "\n",
    "#     combined_data = pd.concat(all_data, axis=1)\n",
    "#     return combined_data\n",
    "\n",
    "# def add_train_test_column(combined_data, train_test_split_info):\n",
    "#     # Assuming `train_test_split_info` is a dictionary or similar structure \n",
    "#     # that indicates which rows are for training and which are for testing\n",
    "#     combined_data['Train_Test'] = combined_data.index.map(train_test_split_info)\n",
    "#     return combined_data\n",
    "\n",
    "# # Path to the folder containing extracted .arff files\n",
    "# folder_path = './NATOPS'\n",
    "\n",
    "# # Read and combine .arff files\n",
    "# combined_data = read_and_combine_arff_files(folder_path)\n",
    "\n",
    "# # Add train-test column (You need to provide the logic or data for this)\n",
    "# # For example, train_test_split_info = {index: 'Train' or 'Test'}\n",
    "# train_test_split_info = {index: 'Train'}  # You need to fill this\n",
    "# combined_data = add_train_test_column(combined_data, train_test_split_info)\n",
    "\n",
    "# # Save to CSV\n",
    "# combined_data.to_csv('./combined_data.csv', index=False)\n",
    "\n",
    "# # Display first 5 rows\n",
    "# print(combined_data.head())\n"
   ]
  },
  {
   "cell_type": "code",
   "execution_count": null,
   "id": "4749e634-ad07-4fe7-8ccf-cfd2c06906fe",
   "metadata": {},
   "outputs": [],
   "source": [
    "# check if a folder (directory) exists\n",
    "directory = '/Users/chengtao/Documents/GitHub/CS470-Team-10/'\n",
    "folder_path = 'phase1/NATOPS'\n",
    "\n",
    "fill_dirc = directory + folder_path\n",
    "\n",
    "if os.path.exists(fill_dirc):\n",
    "    print(f\"The folder at '{fill_dirc}' exists.\")\n",
    "else:\n",
    "    print(f\"The folder at '{fill_dirc}' does not exist.\")"
   ]
  },
  {
   "cell_type": "code",
   "execution_count": null,
   "metadata": {},
   "outputs": [],
   "source": [
    "file_list = [f for f in os.listdir(fill_dirc) if f.endswith('.arff')]"
   ]
  },
  {
   "cell_type": "code",
   "execution_count": null,
   "metadata": {},
   "outputs": [],
   "source": [
    "file_list"
   ]
  },
  {
   "cell_type": "code",
   "execution_count": null,
   "metadata": {},
   "outputs": [],
   "source": [
    "datasets = []"
   ]
  },
  {
   "cell_type": "code",
   "execution_count": null,
   "metadata": {},
   "outputs": [],
   "source": [
    "for file_name in file_list:\n",
    "    file_path = os.path.join(fill_dirc, file_name)\n",
    "    \n",
    "    with open(file_path, 'r') as file:\n",
    "        data = arff.load(file)\n",
    "        data_matrix = data['data']\n",
    "        datasets.append(data_matrix)"
   ]
  }
 ],
 "metadata": {
  "kernelspec": {
   "display_name": "Python 3 (ipykernel)",
   "language": "python",
   "name": "python3"
  },
  "language_info": {
   "codemirror_mode": {
    "name": "ipython",
    "version": 3
   },
   "file_extension": ".py",
   "mimetype": "text/x-python",
   "name": "python",
   "nbconvert_exporter": "python",
   "pygments_lexer": "ipython3",
   "version": "3.10.11"
  }
 },
 "nbformat": 4,
 "nbformat_minor": 5
}
