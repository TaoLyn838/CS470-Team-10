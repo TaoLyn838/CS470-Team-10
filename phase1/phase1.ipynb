{
 "cells": [
  {
   "cell_type": "code",
   "execution_count": 5,
   "id": "27410ccc-86e2-4e9e-be46-6ee4569f6214",
   "metadata": {},
   "outputs": [
    {
     "ename": "NameError",
     "evalue": "name 'index' is not defined",
     "output_type": "error",
     "traceback": [
      "\u001b[0;31m---------------------------------------------------------------------------\u001b[0m",
      "\u001b[0;31mNameError\u001b[0m                                 Traceback (most recent call last)",
      "Cell \u001b[0;32mIn[5], line 31\u001b[0m\n\u001b[1;32m     27\u001b[0m combined_data \u001b[38;5;241m=\u001b[39m read_and_combine_arff_files(folder_path)\n\u001b[1;32m     29\u001b[0m \u001b[38;5;66;03m# Add train-test column (You need to provide the logic or data for this)\u001b[39;00m\n\u001b[1;32m     30\u001b[0m \u001b[38;5;66;03m# For example, train_test_split_info = {index: 'Train' or 'Test'}\u001b[39;00m\n\u001b[0;32m---> 31\u001b[0m train_test_split_info \u001b[38;5;241m=\u001b[39m {\u001b[43mindex\u001b[49m: \u001b[38;5;124m'\u001b[39m\u001b[38;5;124mTrain\u001b[39m\u001b[38;5;124m'\u001b[39m}  \u001b[38;5;66;03m# You need to fill this\u001b[39;00m\n\u001b[1;32m     32\u001b[0m combined_data \u001b[38;5;241m=\u001b[39m add_train_test_column(combined_data, train_test_split_info)\n\u001b[1;32m     34\u001b[0m \u001b[38;5;66;03m# Save to CSV\u001b[39;00m\n",
      "\u001b[0;31mNameError\u001b[0m: name 'index' is not defined"
     ]
    }
   ],
   "source": [
    "import pandas as pd\n",
    "import os\n",
    "from scipy.io import arff\n",
    "\n",
    "def read_and_combine_arff_files(folder_path):\n",
    "    all_data = []\n",
    "    for file_name in sorted(os.listdir(folder_path)):\n",
    "        if file_name.endswith('.arff'):\n",
    "            file_path = os.path.join(folder_path, file_name)\n",
    "            data, meta = arff.loadarff(file_path)\n",
    "            df = pd.DataFrame(data)\n",
    "            all_data.append(df)\n",
    "\n",
    "    combined_data = pd.concat(all_data, axis=1)\n",
    "    return combined_data\n",
    "\n",
    "def add_train_test_column(combined_data, train_test_split_info):\n",
    "    # Assuming `train_test_split_info` is a dictionary or similar structure \n",
    "    # that indicates which rows are for training and which are for testing\n",
    "    combined_data['Train_Test'] = combined_data.index.map(train_test_split_info)\n",
    "    return combined_data\n",
    "\n",
    "# Path to the folder containing extracted .arff files\n",
    "folder_path = './NATOPS'\n",
    "\n",
    "# Read and combine .arff files\n",
    "combined_data = read_and_combine_arff_files(folder_path)\n",
    "\n",
    "# Add train-test column (You need to provide the logic or data for this)\n",
    "# For example, train_test_split_info = {index: 'Train' or 'Test'}\n",
    "train_test_split_info = {index: 'Train'}  # You need to fill this\n",
    "combined_data = add_train_test_column(combined_data, train_test_split_info)\n",
    "\n",
    "# Save to CSV\n",
    "combined_data.to_csv('./combined_data.csv', index=False)\n",
    "\n",
    "# Display first 5 rows\n",
    "print(combined_data.head())\n"
   ]
  },
  {
   "cell_type": "code",
   "execution_count": null,
   "id": "4749e634-ad07-4fe7-8ccf-cfd2c06906fe",
   "metadata": {},
   "outputs": [],
   "source": []
  }
 ],
 "metadata": {
  "kernelspec": {
   "display_name": "Python 3 (ipykernel)",
   "language": "python",
   "name": "python3"
  },
  "language_info": {
   "codemirror_mode": {
    "name": "ipython",
    "version": 3
   },
   "file_extension": ".py",
   "mimetype": "text/x-python",
   "name": "python",
   "nbconvert_exporter": "python",
   "pygments_lexer": "ipython3",
   "version": "3.10.9"
  }
 },
 "nbformat": 4,
 "nbformat_minor": 5
}
