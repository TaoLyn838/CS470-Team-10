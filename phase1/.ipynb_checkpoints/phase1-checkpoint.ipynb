{
 "cells": [
  {
   "cell_type": "code",
   "execution_count": 1,
   "id": "27410ccc-86e2-4e9e-be46-6ee4569f6214",
   "metadata": {},
   "outputs": [
    {
     "ename": "FileNotFoundError",
     "evalue": "[Errno 2] No such file or directory: './NATOPS'",
     "output_type": "error",
     "traceback": [
      "\u001b[0;31m---------------------------------------------------------------------------\u001b[0m",
      "\u001b[0;31mFileNotFoundError\u001b[0m                         Traceback (most recent call last)",
      "\u001b[1;32m/Users/chengtao/Documents/GitHub/CS470-Team-10/phase1/.ipynb_checkpoints/phase1-checkpoint.ipynb Cell 1\u001b[0m line \u001b[0;36m2\n\u001b[1;32m     <a href='vscode-notebook-cell:/Users/chengtao/Documents/GitHub/CS470-Team-10/phase1/.ipynb_checkpoints/phase1-checkpoint.ipynb#W0sZmlsZQ%3D%3D?line=23'>24</a>\u001b[0m folder_path \u001b[39m=\u001b[39m \u001b[39m'\u001b[39m\u001b[39m./NATOPS\u001b[39m\u001b[39m'\u001b[39m\n\u001b[1;32m     <a href='vscode-notebook-cell:/Users/chengtao/Documents/GitHub/CS470-Team-10/phase1/.ipynb_checkpoints/phase1-checkpoint.ipynb#W0sZmlsZQ%3D%3D?line=25'>26</a>\u001b[0m \u001b[39m# Read and combine .arff files\u001b[39;00m\n\u001b[0;32m---> <a href='vscode-notebook-cell:/Users/chengtao/Documents/GitHub/CS470-Team-10/phase1/.ipynb_checkpoints/phase1-checkpoint.ipynb#W0sZmlsZQ%3D%3D?line=26'>27</a>\u001b[0m combined_data \u001b[39m=\u001b[39m read_and_combine_arff_files(folder_path)\n\u001b[1;32m     <a href='vscode-notebook-cell:/Users/chengtao/Documents/GitHub/CS470-Team-10/phase1/.ipynb_checkpoints/phase1-checkpoint.ipynb#W0sZmlsZQ%3D%3D?line=28'>29</a>\u001b[0m \u001b[39m# Add train-test column (You need to provide the logic or data for this)\u001b[39;00m\n\u001b[1;32m     <a href='vscode-notebook-cell:/Users/chengtao/Documents/GitHub/CS470-Team-10/phase1/.ipynb_checkpoints/phase1-checkpoint.ipynb#W0sZmlsZQ%3D%3D?line=29'>30</a>\u001b[0m \u001b[39m# For example, train_test_split_info = {index: 'Train' or 'Test'}\u001b[39;00m\n\u001b[1;32m     <a href='vscode-notebook-cell:/Users/chengtao/Documents/GitHub/CS470-Team-10/phase1/.ipynb_checkpoints/phase1-checkpoint.ipynb#W0sZmlsZQ%3D%3D?line=30'>31</a>\u001b[0m train_test_split_info \u001b[39m=\u001b[39m {index: \u001b[39m'\u001b[39m\u001b[39mTrain\u001b[39m\u001b[39m'\u001b[39m}  \u001b[39m# You need to fill this\u001b[39;00m\n",
      "\u001b[1;32m/Users/chengtao/Documents/GitHub/CS470-Team-10/phase1/.ipynb_checkpoints/phase1-checkpoint.ipynb Cell 1\u001b[0m line \u001b[0;36m7\n\u001b[1;32m      <a href='vscode-notebook-cell:/Users/chengtao/Documents/GitHub/CS470-Team-10/phase1/.ipynb_checkpoints/phase1-checkpoint.ipynb#W0sZmlsZQ%3D%3D?line=4'>5</a>\u001b[0m \u001b[39mdef\u001b[39;00m \u001b[39mread_and_combine_arff_files\u001b[39m(folder_path):\n\u001b[1;32m      <a href='vscode-notebook-cell:/Users/chengtao/Documents/GitHub/CS470-Team-10/phase1/.ipynb_checkpoints/phase1-checkpoint.ipynb#W0sZmlsZQ%3D%3D?line=5'>6</a>\u001b[0m     all_data \u001b[39m=\u001b[39m []\n\u001b[0;32m----> <a href='vscode-notebook-cell:/Users/chengtao/Documents/GitHub/CS470-Team-10/phase1/.ipynb_checkpoints/phase1-checkpoint.ipynb#W0sZmlsZQ%3D%3D?line=6'>7</a>\u001b[0m     \u001b[39mfor\u001b[39;00m file_name \u001b[39min\u001b[39;00m \u001b[39msorted\u001b[39m(os\u001b[39m.\u001b[39;49mlistdir(folder_path)):\n\u001b[1;32m      <a href='vscode-notebook-cell:/Users/chengtao/Documents/GitHub/CS470-Team-10/phase1/.ipynb_checkpoints/phase1-checkpoint.ipynb#W0sZmlsZQ%3D%3D?line=7'>8</a>\u001b[0m         \u001b[39mif\u001b[39;00m file_name\u001b[39m.\u001b[39mendswith(\u001b[39m'\u001b[39m\u001b[39m.arff\u001b[39m\u001b[39m'\u001b[39m):\n\u001b[1;32m      <a href='vscode-notebook-cell:/Users/chengtao/Documents/GitHub/CS470-Team-10/phase1/.ipynb_checkpoints/phase1-checkpoint.ipynb#W0sZmlsZQ%3D%3D?line=8'>9</a>\u001b[0m             file_path \u001b[39m=\u001b[39m os\u001b[39m.\u001b[39mpath\u001b[39m.\u001b[39mjoin(folder_path, file_name)\n",
      "\u001b[0;31mFileNotFoundError\u001b[0m: [Errno 2] No such file or directory: './NATOPS'"
     ]
    }
   ],
   "source": [
    "import pandas as pd\n",
    "import os\n",
    "from scipy.io import arff\n",
    "\n",
    "def read_and_combine_arff_files(folder_path):\n",
    "    all_data = []\n",
    "    for file_name in sorted(os.listdir(folder_path)):\n",
    "        if file_name.endswith('.arff'):\n",
    "            file_path = os.path.join(folder_path, file_name)\n",
    "            data, meta = arff.loadarff(file_path)\n",
    "            df = pd.DataFrame(data)\n",
    "            all_data.append(df)\n",
    "\n",
    "    combined_data = pd.concat(all_data, axis=1)\n",
    "    return combined_data\n",
    "\n",
    "def add_train_test_column(combined_data, train_test_split_info):\n",
    "    # Assuming `train_test_split_info` is a dictionary or similar structure \n",
    "    # that indicates which rows are for training and which are for testing\n",
    "    combined_data['Train_Test'] = combined_data.index.map(train_test_split_info)\n",
    "    return combined_data\n",
    "\n",
    "# Path to the folder containing extracted .arff files\n",
    "folder_path = './NATOPS'\n",
    "\n",
    "# Read and combine .arff files\n",
    "combined_data = read_and_combine_arff_files(folder_path)\n",
    "\n",
    "# Add train-test column (You need to provide the logic or data for this)\n",
    "# For example, train_test_split_info = {index: 'Train' or 'Test'}\n",
    "train_test_split_info = {index: 'Train'}  # You need to fill this\n",
    "combined_data = add_train_test_column(combined_data, train_test_split_info)\n",
    "\n",
    "# Save to CSV\n",
    "combined_data.to_csv('./combined_data.csv', index=False)\n",
    "\n",
    "# Display first 5 rows\n",
    "print(combined_data.head())\n"
   ]
  },
  {
   "cell_type": "code",
   "execution_count": null,
   "id": "4749e634-ad07-4fe7-8ccf-cfd2c06906fe",
   "metadata": {},
   "outputs": [],
   "source": []
  }
 ],
 "metadata": {
  "kernelspec": {
   "display_name": "Python 3 (ipykernel)",
   "language": "python",
   "name": "python3"
  },
  "language_info": {
   "codemirror_mode": {
    "name": "ipython",
    "version": 3
   },
   "file_extension": ".py",
   "mimetype": "text/x-python",
   "name": "python",
   "nbconvert_exporter": "python",
   "pygments_lexer": "ipython3",
   "version": "3.10.11"
  }
 },
 "nbformat": 4,
 "nbformat_minor": 5
}
